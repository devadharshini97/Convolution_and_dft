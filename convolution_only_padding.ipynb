{
 "cells": [
  {
   "cell_type": "code",
   "execution_count": 128,
   "id": "d8bc6028",
   "metadata": {},
   "outputs": [],
   "source": [
    "import numpy as np\n",
    "import cv2\n",
    "import math"
   ]
  },
  {
   "cell_type": "code",
   "execution_count": 129,
   "id": "68298406",
   "metadata": {},
   "outputs": [
    {
     "name": "stdout",
     "output_type": "stream",
     "text": [
      "Enter the padding width40\n"
     ]
    }
   ],
   "source": [
    "image=cv2.imread('Lenna.png')\n",
    "x = int(input(\"Enter the padding width\"))"
   ]
  },
  {
   "cell_type": "code",
   "execution_count": 130,
   "id": "0a07d17a",
   "metadata": {},
   "outputs": [
    {
     "data": {
      "text/plain": [
       "-1"
      ]
     },
     "execution_count": 130,
     "metadata": {},
     "output_type": "execute_result"
    }
   ],
   "source": [
    "image_padded =np.zeros((image.shape[0]+(x*2),image.shape[1]+(x*2),image.shape[2]),dtype=np.uint8)\n",
    "zero_pad_image = np.zeros((image.shape[0]+(x*2),image.shape[1]+(x*2),image.shape[2]),dtype=np.uint8)\n",
    "m = image_padded.shape[0]\n",
    "n = image_padded.shape[1]\n",
    "zero_pad_image[x: m-x, x: n-x] = image\n",
    "cv2.imshow(\"Input Image(a)\", image)\n",
    "cv2.imshow(\"Input Image(a)\", zero_pad_image)\n",
    "cv2.waitKey(0)"
   ]
  },
  {
   "cell_type": "code",
   "execution_count": 131,
   "id": "99b178df",
   "metadata": {},
   "outputs": [
    {
     "data": {
      "text/plain": [
       "-1"
      ]
     },
     "execution_count": 131,
     "metadata": {},
     "output_type": "execute_result"
    }
   ],
   "source": [
    "wrap_around_pad_image = np.zeros((image.shape[0]+(x*2),image.shape[1]+(x*2),image.shape[2]),dtype=np.uint8)\n",
    "wrap_around_pad_image[x: m-x, x: n-x] = image\n",
    "m=wrap_around_pad_image.shape[0]\n",
    "n=wrap_around_pad_image.shape[1]\n",
    "for i in range(1,x+1):\n",
    "    wrap_around_pad_image[m-i, x: n-x] = wrap_around_pad_image[x-1+i, x: n-x]\n",
    "    wrap_around_pad_image[i-1, x: n-x] = wrap_around_pad_image[m-x-i, x: n-x]\n",
    "    wrap_around_pad_image[x: m-x, i-1] = wrap_around_pad_image[x: m-x, n-x-i]\n",
    "    wrap_around_pad_image[x: m-x, n-i] = wrap_around_pad_image[x: m-x, x-1+i]\n",
    "    wrap_around_pad_image[0:x, 0:x] = wrap_around_pad_image[m-x-x: m-x, n-x-x: n-x]\n",
    "    wrap_around_pad_image[m-x:m, n-x:n] = wrap_around_pad_image[x: 2*x, x: 2*x]\n",
    "    wrap_around_pad_image[0:x, n-x:n] = wrap_around_pad_image[m-x-x: m-x, x: 2*x]\n",
    "    wrap_around_pad_image[m-x:m, 0:x] = wrap_around_pad_image[x: 2*x, n-x-x: n-x]\n",
    "cv2.imshow(\"Wrap_around\", wrap_around_pad_image)\n",
    "cv2.waitKey(0)"
   ]
  },
  {
   "cell_type": "code",
   "execution_count": 132,
   "id": "14e619eb",
   "metadata": {},
   "outputs": [
    {
     "data": {
      "text/plain": [
       "-1"
      ]
     },
     "execution_count": 132,
     "metadata": {},
     "output_type": "execute_result"
    }
   ],
   "source": [
    "edge_copy_pad_image = np.zeros((image.shape[0]+(x*2),image.shape[1]+(x*2),image.shape[2]),dtype=np.uint8)\n",
    "edge_copy_pad_image[x: m-x, x: n-x] = image\n",
    "m=edge_copy_pad_image.shape[0]\n",
    "n=edge_copy_pad_image.shape[1]\n",
    "for i in range(1,x+1):\n",
    "    edge_copy_pad_image[m-x:m, x: n-x] = edge_copy_pad_image[m-x-1, x: n-x]\n",
    "    edge_copy_pad_image[0:x, x: n-x] = edge_copy_pad_image[x+1, x: n-x]\n",
    "    edge_copy_pad_image[x: m-x, i-1] = edge_copy_pad_image[x: m-x, x+1]\n",
    "    edge_copy_pad_image[x: m-x, n-i] = edge_copy_pad_image[x: m-x, n-x-1]\n",
    "    edge_copy_pad_image[0:x, 0:x] = edge_copy_pad_image[x,x]\n",
    "    edge_copy_pad_image[m-x:m, n-x:n] = edge_copy_pad_image[m-x-1,n-x-1]\n",
    "    edge_copy_pad_image[0:x, n-x:n] = edge_copy_pad_image[x,n-x]\n",
    "    edge_copy_pad_image[m-x:m, 0:x] = edge_copy_pad_image[m-x,x]\n",
    "cv2.imshow(\"edge_copy\", edge_copy_pad_image)\n",
    "cv2.waitKey(0)"
   ]
  },
  {
   "cell_type": "code",
   "execution_count": 127,
   "id": "f36ea01d",
   "metadata": {},
   "outputs": [
    {
     "data": {
      "text/plain": [
       "-1"
      ]
     },
     "execution_count": 127,
     "metadata": {},
     "output_type": "execute_result"
    }
   ],
   "source": [
    "reflect_edge_pad_image = np.zeros((image.shape[0]+(x*2),image.shape[1]+(x*2),image.shape[2]),dtype=np.uint8)\n",
    "reflect_edge_pad_image[x: m-x, x: n-x] = image\n",
    "m=reflect_edge_pad_image.shape[0]\n",
    "n=reflect_edge_pad_image.shape[1]\n",
    "for i in range(1,x+1):\n",
    "    reflect_edge_pad_image[m-i, 0: n] = reflect_edge_pad_image[(m-1)-(2*x)+i, 0: n]\n",
    "    reflect_edge_pad_image[0: m, n-i] = reflect_edge_pad_image[0: m, (n-1)-(2*x)+i]\n",
    "    reflect_edge_pad_image[i-1, 0: n] = reflect_edge_pad_image[(2*x)-i, 0: n]\n",
    "    reflect_edge_pad_image[0: m, i-1] = reflect_edge_pad_image[0: m, (2*x)-i]\n",
    "cv2.imshow(\"edge_copy\", reflect_edge_pad_image)\n",
    "cv2.waitKey(0)"
   ]
  },
  {
   "cell_type": "code",
   "execution_count": null,
   "id": "acfc2965",
   "metadata": {},
   "outputs": [],
   "source": []
  }
 ],
 "metadata": {
  "kernelspec": {
   "display_name": "Python 3 (ipykernel)",
   "language": "python",
   "name": "python3"
  },
  "language_info": {
   "codemirror_mode": {
    "name": "ipython",
    "version": 3
   },
   "file_extension": ".py",
   "mimetype": "text/x-python",
   "name": "python",
   "nbconvert_exporter": "python",
   "pygments_lexer": "ipython3",
   "version": "3.9.12"
  }
 },
 "nbformat": 4,
 "nbformat_minor": 5
}
