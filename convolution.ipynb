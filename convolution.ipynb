{
 "cells": [
  {
   "cell_type": "code",
   "execution_count": 1,
   "id": "ed67fd37",
   "metadata": {},
   "outputs": [],
   "source": [
    "import numpy as np\n",
    "import cv2\n",
    "import math\n",
    "image=cv2.imread('Lenna.png')"
   ]
  },
  {
   "cell_type": "code",
   "execution_count": 2,
   "id": "19663ab8",
   "metadata": {},
   "outputs": [
    {
     "name": "stdout",
     "output_type": "stream",
     "text": [
      "Different Kernel Types:  \n",
      "1. Box filter \n",
      "2. First Order Derivative Filter-xy \n",
      "3. Prewitt-xy \n",
      "4. Sobel-xy \n",
      "5. Roberts-xy \n",
      "6. Prewitt-x \n",
      "7. Prewitt-y \n",
      "8. Sobel-x \n",
      "9. Sobel-y \n",
      "10. Roberts-x \n",
      "11. Roberts-y\n",
      "Enter the type of kernel: 10\n"
     ]
    }
   ],
   "source": [
    "kernel_type = [\"1. Box filter\", \"2. First Order Derivative Filter-xy\", \"3. Prewitt-xy\", \"4. Sobel-xy\", \"5. Roberts-xy\",\"6. Prewitt-x\", \"7. Prewitt-y\", \"8. Sobel-x\",\"9. Sobel-y\", \"10. Roberts-x\", \"11. Roberts-y\"]\n",
    "print(\"Different Kernel Types: \" ,*kernel_type, sep=\" \\n\")\n",
    "select_kernel = int(input(\"Enter the type of kernel: \"))"
   ]
  },
  {
   "cell_type": "code",
   "execution_count": 3,
   "id": "fff6a93d",
   "metadata": {},
   "outputs": [],
   "source": [
    "derivative_x = np.array([[-1, 1]])\n",
    "derivative_y = np.array([[-1],[ 1]])\n",
    "prewitt_x = np.array([[-1, 0, 1], [-1, 0, 1], [-1, 0, 1]])\n",
    "prewitt_y = np.array([[1, 1, 1], [0, 0, 0], [-1, -1, -1]])\n",
    "sobel_x = np.array([[-1, 0, 1], [-2, 0, 2], [-1, 0, 1]])\n",
    "sobel_y = np.array([[1, 2, 1], [0, 0, 0], [-1, -2, -1]])\n",
    "roberts_x = np.array([[0, 1], [-1, 0]])\n",
    "roberts_y = np.array([[1, 0], [0, -1]])\n",
    "box_filter = 1/9*(np.ones([3,3]))"
   ]
  },
  {
   "cell_type": "code",
   "execution_count": 4,
   "id": "40b1cbd9",
   "metadata": {},
   "outputs": [
    {
     "name": "stdout",
     "output_type": "stream",
     "text": [
      "Types of padding available:  \n",
      "1. Zero \n",
      "2. Wrap Around \n",
      "3. Copy Edge \n",
      "4. Reflect Across Edge\n",
      "Enter the type of padding: 3\n"
     ]
    }
   ],
   "source": [
    "pad_type = [\"1. Zero\", \"2. Wrap Around\", \"3. Copy Edge\", \"4. Reflect Across Edge\"]\n",
    "print(\"Types of padding available: \" ,*pad_type, sep=\" \\n\")\n",
    "select_padding = int(input(\"Enter the type of padding: \"))"
   ]
  },
  {
   "cell_type": "code",
   "execution_count": 5,
   "id": "98454427",
   "metadata": {},
   "outputs": [],
   "source": [
    "def conv2(f, w, pad):\n",
    "    if(w==1):\n",
    "        kernel1 = box_filter\n",
    "        kernel2 = np.array([[0, 0, 0], [0, 0, 0], [0, 0, 0]])\n",
    "    if(w==2):\n",
    "        kernel1= derivative_x\n",
    "        kernel2 = derivative_y\n",
    "    elif(w==3):\n",
    "        kernel1 = prewitt_x\n",
    "        kernel2 = prewitt_y\n",
    "    elif(w==4):\n",
    "        kernel1 = sobel_x\n",
    "        kernel2 = sobel_y\n",
    "    elif(w==5):\n",
    "        kernel1 = roberts_x\n",
    "        kernel2 = roberts_y\n",
    "    elif(w==6):\n",
    "        kernel1 = prewitt_x\n",
    "        kernel2 = np.array([[0, 0, 0], [0, 0, 0], [0, 0, 0]])\n",
    "    elif(w==7):\n",
    "        kernel1 = np.array([[0, 0, 0], [0, 0, 0], [0, 0, 0]])\n",
    "        kernel2 = prewitt_y\n",
    "    elif(w==8):\n",
    "        kernel1 = sobel_x\n",
    "        kernel2 = np.array([[0, 0, 0], [0, 0, 0], [0, 0, 0]])\n",
    "    elif(w==9):\n",
    "        kernel1 = np.array([[0, 0, 0], [0, 0, 0], [0, 0, 0]])\n",
    "        kernel2 = sobel_y\n",
    "    elif(w==10):\n",
    "        kernel1 = roberts_x\n",
    "        kernel2 = np.array([[0, 0, 0], [0, 0, 0], [0, 0, 0]])\n",
    "    elif(w==11):\n",
    "        kernel1 = np.array([[0, 0, 0], [0, 0, 0], [0, 0, 0]])\n",
    "        kernel2 = roberts_y\n",
    "    kernel1 = np.fliplr(np.flipud(kernel1))\n",
    "    kernel2 = np.fliplr(np.flipud(kernel2))\n",
    "    #x is the padding width which varies based on kernel size\n",
    "    x=int((max(kernel1.shape[0],kernel1.shape[1],kernel2.shape[1],kernel2.shape[0]))/2)\n",
    "    #padded image is created based on kernel size\n",
    "    if(len(f.shape) == 3):\n",
    "    \timage_padded =np.zeros((f.shape[0]+(x*2),f.shape[1]+(x*2),f.shape[2]),dtype=np.uint8)\n",
    "    else:\n",
    "    \timage_padded=np.zeros([f.shape[0]+(x*2),f.shape[1]+(x*2)])\n",
    "    m = image_padded.shape[0]\n",
    "    n = image_padded.shape[1]\n",
    "    #Zero Padding\n",
    "    image_padded[x: m-x, x: n-x] = f\n",
    "    #Wrap Around Padding\n",
    "    if(pad==2):\n",
    "        for i in range(1,x+1):\n",
    "            image_padded[m-i, x: n-x] = image_padded[x-1+i, x: n-x]\n",
    "            image_padded[i-1, x: n-x] = image_padded[m-x-i, x: n-x]\n",
    "            image_padded[x: m-x, i-1] = image_padded[x: m-x, n-x-i]\n",
    "            image_padded[x: m-x, n-i] = image_padded[x: m-x, x-1+i]\n",
    "            image_padded[0:x, 0:x] = image_padded[m-x-x: m-x, n-x-x: n-x]\n",
    "            image_padded[m-x:m, n-x:n] = image_padded[x: 2*x, x: 2*x]\n",
    "            image_padded[0:x, n-x:n] = image_padded[m-x-x: m-x, x: 2*x]\n",
    "            image_padded[m-x:m, 0:x] = image_padded[x: 2*x, n-x-x: n-x]\n",
    "    #Copy Edge Padding\n",
    "    elif(pad==3):\n",
    "        for i in range(1,x+1):\n",
    "            image_padded[m-x:m, x: n-x] = image_padded[m-x-1, x: n-x]\n",
    "            image_padded[0:x, x: n-x] = image_padded[x+1, x: n-x]\n",
    "            image_padded[x: m-x, i-1] = image_padded[x: m-x, x+1]\n",
    "            image_padded[x: m-x, n-i] = image_padded[x: m-x, n-x-1]\n",
    "            image_padded[0:x, 0:x] = image_padded[x,x]\n",
    "            image_padded[m-x:m, n-x:n] = image_padded[m-x-1,n-x-1]\n",
    "            image_padded[0:x, n-x:n] = image_padded[x,n-x]\n",
    "            image_padded[m-x:m, 0:x] = image_padded[m-x,x]\n",
    "    #Reflect Across Edge\n",
    "    elif(pad==4):\n",
    "        for i in range(1,x+1):\n",
    "            image_padded[m-i, 0: n] = image_padded[(m-1)-(2*x)+i, 0: n]\n",
    "            image_padded[0: m, n-i] = image_padded[0: m, (n-1)-(2*x)+i]\n",
    "            image_padded[i-1, 0: n] = image_padded[(2*x)-i, 0: n]\n",
    "            image_padded[0: m, i-1] = image_padded[0: m, (2*x)-i]\n",
    "\n",
    "    #output image is initiated with zeros with the same dimensions and type as input image\n",
    "    output_image = np.zeros_like(f)\n",
    "    \n",
    "    #convolution function is performed here based on the selected color and gray images:\n",
    "    for x in range(f.shape[0]):\n",
    "            for y in range(f.shape[1]):\n",
    "                #For color image\n",
    "                if(len(f.shape)==3):\n",
    "                    output_image[x,y,2]=math.sqrt(((kernel1*image_padded[x:x + kernel1.shape[0], y:y + kernel1.shape[1], 2]).sum())**2 + ((kernel2*image_padded[x:x + kernel2.shape[0], y:y + kernel2.shape[1], 2]).sum())**2)\n",
    "                    output_image[x,y,1]=math.sqrt(((kernel1*image_padded[x:x + kernel1.shape[0], y:y + kernel1.shape[1], 1]).sum())**2 + ((kernel2*image_padded[x:x + kernel2.shape[0], y:y + kernel2.shape[1], 1]).sum())**2)\n",
    "                    output_image[x,y,0]=math.sqrt(((kernel1*image_padded[x:x + kernel1.shape[0], y:y + kernel1.shape[1], 0]).sum())**2 + ((kernel2*image_padded[x:x + kernel2.shape[0], y:y + kernel2.shape[1], 0]).sum())**2)\n",
    "                #For gray scale image\n",
    "                else:  \n",
    "                    output_image[x,y]=math.sqrt(((kernel1*image_padded[x:x + kernel1.shape[0], y:y + kernel1.shape[1]]).sum())**2 + ((kernel2*image_padded[x:x + kernel2.shape[0], y:y + kernel2.shape[1]]).sum())**2)\n",
    "    return output_image\n",
    "    \n",
    "    "
   ]
  },
  {
   "cell_type": "code",
   "execution_count": 6,
   "id": "c9754efb",
   "metadata": {},
   "outputs": [],
   "source": [
    "output_parta = conv2(image, select_kernel, select_padding)"
   ]
  },
  {
   "cell_type": "code",
   "execution_count": 7,
   "id": "b01759c7",
   "metadata": {},
   "outputs": [
    {
     "name": "stdout",
     "output_type": "stream",
     "text": [
      "Different Kernel Types:  \n",
      "1. Box filter \n",
      "2. First Order Derivative Filter-xy \n",
      "3. Prewitt-xy \n",
      "4. Sobel-xy \n",
      "5. Roberts-xy \n",
      "6. Prewitt-x \n",
      "7. Prewitt-y \n",
      "8. Sobel-x \n",
      "9. Sobel-y \n",
      "10. Roberts-x \n",
      "11. Roberts-y\n",
      "Enter the type of kernel: 10\n",
      "Types of padding available:  \n",
      "1. Zero \n",
      "2. Wrap Around \n",
      "3. Copy Edge \n",
      "4. Reflect Across Edge\n",
      "Enter the type of padding: 3\n",
      "Impulse_output \n",
      "[[  0.   0.   0.   0.   0.]\n",
      " [  0.   0.   0.   0.   0.]\n",
      " [  0.   0.   0. 255.   0.]\n",
      " [  0.   0. 255.   0.   0.]\n",
      " [  0.   0.   0.   0.   0.]]\n"
     ]
    }
   ],
   "source": [
    "kernel_type = [\"1. Box filter\", \"2. First Order Derivative Filter-xy\", \"3. Prewitt-xy\", \"4. Sobel-xy\", \"5. Roberts-xy\",\"6. Prewitt-x\", \"7. Prewitt-y\", \"8. Sobel-x\",\"9. Sobel-y\", \"10. Roberts-x\", \"11. Roberts-y\"]\n",
    "print(\"Different Kernel Types: \" ,*kernel_type, sep=\" \\n\")\n",
    "select_kernel = int(input(\"Enter the type of kernel: \"))\n",
    "pad_type = [\"1. Zero\", \"2. Wrap Around\", \"3. Copy Edge\", \"4. Reflect Across Edge\"]\n",
    "print(\"Types of padding available: \" ,*pad_type, sep=\" \\n\")\n",
    "select_padding = int(input(\"Enter the type of padding: \"))\n",
    "#unit impulse image\n",
    "unit_impulse = np.zeros([1024,1024])\n",
    "unit_impulse[512,512] = 255\n",
    "#convolution function on the unit impulse image\n",
    "unit_impulse_output = conv2(unit_impulse, select_kernel, select_padding)\n",
    "#Displaying the center pixels of the impulse output to see the effect of convolution\n",
    "print(\"Impulse_output\", unit_impulse_output[510:515,510:515], sep=\" \\n\")"
   ]
  },
  {
   "cell_type": "code",
   "execution_count": 8,
   "id": "58d55f76",
   "metadata": {},
   "outputs": [],
   "source": [
    "cv2.imshow(\"Input Image(a)\", image)\n",
    "cv2.imshow(\"Result Image(a)\", output_parta)\n",
    "cv2.imshow(\"Input Image(b)\", unit_impulse)\n",
    "cv2.imshow(\"Result Image(b)\", unit_impulse_output)\n",
    "cv2.waitKey(0)\n",
    "cv2.destroyAllWindows()"
   ]
  },
  {
   "cell_type": "code",
   "execution_count": null,
   "id": "96f9b1b2",
   "metadata": {},
   "outputs": [],
   "source": []
  }
 ],
 "metadata": {
  "kernelspec": {
   "display_name": "Python 3 (ipykernel)",
   "language": "python",
   "name": "python3"
  },
  "language_info": {
   "codemirror_mode": {
    "name": "ipython",
    "version": 3
   },
   "file_extension": ".py",
   "mimetype": "text/x-python",
   "name": "python",
   "nbconvert_exporter": "python",
   "pygments_lexer": "ipython3",
   "version": "3.9.12"
  }
 },
 "nbformat": 4,
 "nbformat_minor": 5
}
